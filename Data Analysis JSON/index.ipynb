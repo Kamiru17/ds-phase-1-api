{
 "cells": [
  {
   "cell_type": "markdown",
   "metadata": {},
   "source": [
    "# Data Analysis In Base Python Using JSON"
   ]
  },
  {
   "cell_type": "markdown",
   "metadata": {},
   "source": [
    "JSON(JavaScript Object Notation) is a light-weight data-interchange format that's easy to read and write. \n",
    "\n",
    "In this lesson, we'll cover load, analyze, and manipulate JSON data in Python without using external libraries like `pandas`"
   ]
  },
  {
   "cell_type": "markdown",
   "metadata": {},
   "source": [
    "## Objectives\n",
    "\n",
    "* Understand JSON structure and loading JSON data in python\n",
    "* Perform basic data analysis and transformation using Python's built in features\n",
    "* Save results back to JSON format \n"
   ]
  },
  {
   "cell_type": "markdown",
   "metadata": {},
   "source": [
    "## JSON Structure"
   ]
  },
  {
   "cell_type": "markdown",
   "metadata": {},
   "source": [
    "JSON represents data as key-value pairs, arrays or nested objects."
   ]
  },
  {
   "cell_type": "code",
   "execution_count": 1,
   "metadata": {},
   "outputs": [],
   "source": [
    "# example\n",
    "\n",
    "employees = {\n",
    "    \"employees\": [\n",
    "        {'id': 9178, 'name': 'Sylvia', 'age': 24, 'department': 'tech & data'},\n",
    "        {'id': 8124, 'name': 'Peter', 'age': 34, 'department': 'engineering'},\n",
    "        {'id': 2279, 'name': 'Teresia', 'age': 26, 'department': 'finance'},\n",
    "    ]\n",
    "}"
   ]
  },
  {
   "cell_type": "code",
   "execution_count": 2,
   "metadata": {},
   "outputs": [
    {
     "data": {
      "text/plain": [
       "'finance'"
      ]
     },
     "execution_count": 2,
     "metadata": {},
     "output_type": "execute_result"
    }
   ],
   "source": [
    "# Teresia's department\n",
    "t_department = employees['employees'][2]['department']\n",
    "t_department"
   ]
  },
  {
   "cell_type": "markdown",
   "metadata": {},
   "source": [
    "## Loading JSON Data in Python"
   ]
  },
  {
   "cell_type": "markdown",
   "metadata": {},
   "source": [
    "* Using the `json` module"
   ]
  },
  {
   "cell_type": "code",
   "execution_count": 3,
   "metadata": {},
   "outputs": [
    {
     "data": {
      "text/plain": [
       "{'employees': [{'id': 9178,\n",
       "   'name': 'Sylvia',\n",
       "   'age': 24,\n",
       "   'department': 'tech & data'},\n",
       "  {'id': 8124, 'name': 'Peter', 'age': 34, 'department': 'engineering'},\n",
       "  {'id': 2279, 'name': 'Teresia', 'age': 26, 'department': 'finance'}]}"
      ]
     },
     "execution_count": 3,
     "metadata": {},
     "output_type": "execute_result"
    }
   ],
   "source": [
    "import json \n",
    "\n",
    "# example json string\n",
    "\n",
    "employees = '''\n",
    "{\n",
    "    \"employees\": [\n",
    "        {\"id\": 9178, \"name\": \"Sylvia\", \"age\": 24, \"department\": \"tech & data\"},\n",
    "        {\"id\": 8124, \"name\": \"Peter\", \"age\": 34, \"department\": \"engineering\"},\n",
    "        {\"id\": 2279, \"name\": \"Teresia\", \"age\": 26, \"department\": \"finance\"}\n",
    "    ]\n",
    "}\n",
    "'''  \n",
    "\n",
    "# parse JSON string to python dictionary \n",
    "data_dict = json.loads(employees)\n",
    "\n",
    "type(data_dict)\n",
    "data_dict"
   ]
  },
  {
   "cell_type": "markdown",
   "metadata": {},
   "source": [
    "* `dump()` - Converts a Python Object(e.g., list, dict) into JSON format and writes it to a file"
   ]
  },
  {
   "cell_type": "code",
   "execution_count": 4,
   "metadata": {},
   "outputs": [],
   "source": [
    "# save the above dict as json file\n",
    "with open('employees.json', 'w') as json_file:\n",
    "    json.dump(data_dict, json_file, indent=4) # indent=4 makes the json file more readbale"
   ]
  },
  {
   "cell_type": "markdown",
   "metadata": {},
   "source": [
    "* `load()` - Reads JSON data from a file and converts it into a Python Object "
   ]
  },
  {
   "cell_type": "code",
   "execution_count": 5,
   "metadata": {},
   "outputs": [],
   "source": [
    "# read the saved json data from a file \n",
    "with open('employees.json', 'r') as json_file:\n",
    "    data = json.load(json_file)"
   ]
  },
  {
   "cell_type": "code",
   "execution_count": 6,
   "metadata": {},
   "outputs": [
    {
     "data": {
      "text/plain": [
       "{'employees': [{'id': 9178,\n",
       "   'name': 'Sylvia',\n",
       "   'age': 24,\n",
       "   'department': 'tech & data'},\n",
       "  {'id': 8124, 'name': 'Peter', 'age': 34, 'department': 'engineering'},\n",
       "  {'id': 2279, 'name': 'Teresia', 'age': 26, 'department': 'finance'}]}"
      ]
     },
     "execution_count": 6,
     "metadata": {},
     "output_type": "execute_result"
    }
   ],
   "source": [
    "data"
   ]
  },
  {
   "cell_type": "markdown",
   "metadata": {},
   "source": [
    "* The `loads()` method is different from the `load()` because it works with JSON data in string format, not directly with files."
   ]
  },
  {
   "cell_type": "markdown",
   "metadata": {},
   "source": [
    "## Exploring and analyzing data"
   ]
  },
  {
   "cell_type": "code",
   "execution_count": 7,
   "metadata": {},
   "outputs": [
    {
     "data": {
      "text/plain": [
       "[{'id': 9178, 'name': 'Sylvia', 'age': 24, 'department': 'tech & data'},\n",
       " {'id': 8124, 'name': 'Peter', 'age': 34, 'department': 'engineering'},\n",
       " {'id': 2279, 'name': 'Teresia', 'age': 26, 'department': 'finance'}]"
      ]
     },
     "execution_count": 7,
     "metadata": {},
     "output_type": "execute_result"
    }
   ],
   "source": [
    "# access all employees\n",
    "\n",
    "employees = data['employees']\n",
    "\n",
    "employees"
   ]
  },
  {
   "cell_type": "code",
   "execution_count": 8,
   "metadata": {},
   "outputs": [
    {
     "data": {
      "text/plain": [
       "list"
      ]
     },
     "execution_count": 8,
     "metadata": {},
     "output_type": "execute_result"
    }
   ],
   "source": [
    "type(employees)"
   ]
  },
  {
   "cell_type": "code",
   "execution_count": 9,
   "metadata": {},
   "outputs": [
    {
     "data": {
      "text/plain": [
       "list"
      ]
     },
     "execution_count": 9,
     "metadata": {},
     "output_type": "execute_result"
    }
   ],
   "source": [
    "type(data['employees'])"
   ]
  },
  {
   "cell_type": "code",
   "execution_count": 10,
   "metadata": {},
   "outputs": [
    {
     "name": "stdout",
     "output_type": "stream",
     "text": [
      "[24, 34, 26]\n",
      "28.0\n"
     ]
    }
   ],
   "source": [
    "# calculate averega age \n",
    "ages = [employee['age'] for employee in data['employees']] # list comprehension\n",
    "print(ages)\n",
    "avg_age = sum(ages) / len(ages)\n",
    "print(avg_age)"
   ]
  },
  {
   "cell_type": "code",
   "execution_count": 11,
   "metadata": {},
   "outputs": [
    {
     "name": "stdout",
     "output_type": "stream",
     "text": [
      "[0, 1, 2, 3, 4]\n"
     ]
    }
   ],
   "source": [
    "num = [x for x in range(5)]\n",
    "print(num)"
   ]
  },
  {
   "cell_type": "code",
   "execution_count": 12,
   "metadata": {},
   "outputs": [
    {
     "data": {
      "text/plain": [
       "[0, 1, 2, 3, 4]"
      ]
     },
     "execution_count": 12,
     "metadata": {},
     "output_type": "execute_result"
    }
   ],
   "source": [
    "num = []\n",
    "for x in range(5):\n",
    "    num.append(x)\n",
    "num"
   ]
  },
  {
   "cell_type": "code",
   "execution_count": 13,
   "metadata": {},
   "outputs": [
    {
     "name": "stdout",
     "output_type": "stream",
     "text": [
      "[{'id': 9178, 'name': 'Sylvia', 'age': 24, 'department': 'tech & data'}]\n"
     ]
    }
   ],
   "source": [
    "# filter employees by department \n",
    "\n",
    "tech_data_employees = [emp for emp in employees if emp['department'] == 'tech & data']\n",
    "print(tech_data_employees)"
   ]
  },
  {
   "cell_type": "code",
   "execution_count": 14,
   "metadata": {},
   "outputs": [
    {
     "data": {
      "text/plain": [
       "[{'id': 9178, 'name': 'Sylvia', 'age': 24, 'department': 'tech & data'}]"
      ]
     },
     "execution_count": 14,
     "metadata": {},
     "output_type": "execute_result"
    }
   ],
   "source": [
    "# filter without list comprehension\n",
    "tech_data_employees = []\n",
    "\n",
    "for emp in employees:\n",
    "    if emp['department'] == 'tech & data':\n",
    "        tech_data_employees.append(emp)\n",
    "\n",
    "tech_data_employees"
   ]
  },
  {
   "cell_type": "code",
   "execution_count": 15,
   "metadata": {},
   "outputs": [
    {
     "data": {
      "text/plain": [
       "[{'id': 9178, 'name': 'Sylvia', 'age': 24, 'department': 'tech & data'},\n",
       " {'id': 2279, 'name': 'Teresia', 'age': 26, 'department': 'finance'},\n",
       " {'id': 8124, 'name': 'Peter', 'age': 34, 'department': 'engineering'}]"
      ]
     },
     "execution_count": 15,
     "metadata": {},
     "output_type": "execute_result"
    }
   ],
   "source": [
    "# sort employees by age \n",
    "sort_employees = sorted(employees, key=lambda x: x['age'])\n",
    "sort_employees"
   ]
  },
  {
   "cell_type": "code",
   "execution_count": 16,
   "metadata": {},
   "outputs": [
    {
     "name": "stdout",
     "output_type": "stream",
     "text": [
      "Help on class list in module builtins:\n",
      "\n",
      "class list(object)\n",
      " |  list(iterable=(), /)\n",
      " |\n",
      " |  Built-in mutable sequence.\n",
      " |\n",
      " |  If no argument is given, the constructor creates a new empty list.\n",
      " |  The argument must be an iterable if specified.\n",
      " |\n",
      " |  Methods defined here:\n",
      " |\n",
      " |  __add__(self, value, /)\n",
      " |      Return self+value.\n",
      " |\n",
      " |  __contains__(self, key, /)\n",
      " |      Return bool(key in self).\n",
      " |\n",
      " |  __delitem__(self, key, /)\n",
      " |      Delete self[key].\n",
      " |\n",
      " |  __eq__(self, value, /)\n",
      " |      Return self==value.\n",
      " |\n",
      " |  __ge__(self, value, /)\n",
      " |      Return self>=value.\n",
      " |\n",
      " |  __getattribute__(self, name, /)\n",
      " |      Return getattr(self, name).\n",
      " |\n",
      " |  __getitem__(self, index, /)\n",
      " |      Return self[index].\n",
      " |\n",
      " |  __gt__(self, value, /)\n",
      " |      Return self>value.\n",
      " |\n",
      " |  __iadd__(self, value, /)\n",
      " |      Implement self+=value.\n",
      " |\n",
      " |  __imul__(self, value, /)\n",
      " |      Implement self*=value.\n",
      " |\n",
      " |  __init__(self, /, *args, **kwargs)\n",
      " |      Initialize self.  See help(type(self)) for accurate signature.\n",
      " |\n",
      " |  __iter__(self, /)\n",
      " |      Implement iter(self).\n",
      " |\n",
      " |  __le__(self, value, /)\n",
      " |      Return self<=value.\n",
      " |\n",
      " |  __len__(self, /)\n",
      " |      Return len(self).\n",
      " |\n",
      " |  __lt__(self, value, /)\n",
      " |      Return self<value.\n",
      " |\n",
      " |  __mul__(self, value, /)\n",
      " |      Return self*value.\n",
      " |\n",
      " |  __ne__(self, value, /)\n",
      " |      Return self!=value.\n",
      " |\n",
      " |  __repr__(self, /)\n",
      " |      Return repr(self).\n",
      " |\n",
      " |  __reversed__(self, /)\n",
      " |      Return a reverse iterator over the list.\n",
      " |\n",
      " |  __rmul__(self, value, /)\n",
      " |      Return value*self.\n",
      " |\n",
      " |  __setitem__(self, key, value, /)\n",
      " |      Set self[key] to value.\n",
      " |\n",
      " |  __sizeof__(self, /)\n",
      " |      Return the size of the list in memory, in bytes.\n",
      " |\n",
      " |  append(self, object, /)\n",
      " |      Append object to the end of the list.\n",
      " |\n",
      " |  clear(self, /)\n",
      " |      Remove all items from list.\n",
      " |\n",
      " |  copy(self, /)\n",
      " |      Return a shallow copy of the list.\n",
      " |\n",
      " |  count(self, value, /)\n",
      " |      Return number of occurrences of value.\n",
      " |\n",
      " |  extend(self, iterable, /)\n",
      " |      Extend list by appending elements from the iterable.\n",
      " |\n",
      " |  index(self, value, start=0, stop=9223372036854775807, /)\n",
      " |      Return first index of value.\n",
      " |\n",
      " |      Raises ValueError if the value is not present.\n",
      " |\n",
      " |  insert(self, index, object, /)\n",
      " |      Insert object before index.\n",
      " |\n",
      " |  pop(self, index=-1, /)\n",
      " |      Remove and return item at index (default last).\n",
      " |\n",
      " |      Raises IndexError if list is empty or index is out of range.\n",
      " |\n",
      " |  remove(self, value, /)\n",
      " |      Remove first occurrence of value.\n",
      " |\n",
      " |      Raises ValueError if the value is not present.\n",
      " |\n",
      " |  reverse(self, /)\n",
      " |      Reverse *IN PLACE*.\n",
      " |\n",
      " |  sort(self, /, *, key=None, reverse=False)\n",
      " |      Sort the list in ascending order and return None.\n",
      " |\n",
      " |      The sort is in-place (i.e. the list itself is modified) and stable (i.e. the\n",
      " |      order of two equal elements is maintained).\n",
      " |\n",
      " |      If a key function is given, apply it once to each list item and sort them,\n",
      " |      ascending or descending, according to their function values.\n",
      " |\n",
      " |      The reverse flag can be set to sort in descending order.\n",
      " |\n",
      " |  ----------------------------------------------------------------------\n",
      " |  Class methods defined here:\n",
      " |\n",
      " |  __class_getitem__(...)\n",
      " |      See PEP 585\n",
      " |\n",
      " |  ----------------------------------------------------------------------\n",
      " |  Static methods defined here:\n",
      " |\n",
      " |  __new__(*args, **kwargs)\n",
      " |      Create and return a new object.  See help(type) for accurate signature.\n",
      " |\n",
      " |  ----------------------------------------------------------------------\n",
      " |  Data and other attributes defined here:\n",
      " |\n",
      " |  __hash__ = None\n",
      "\n"
     ]
    }
   ],
   "source": [
    "help(list)"
   ]
  },
  {
   "cell_type": "code",
   "execution_count": 17,
   "metadata": {},
   "outputs": [
    {
     "data": {
      "text/plain": [
       "{'employees': [{'id': 9178,\n",
       "   'name': 'Sylvia',\n",
       "   'age': 24,\n",
       "   'department': 'tech & data'},\n",
       "  {'id': 8124, 'name': 'Peter', 'age': 34, 'department': 'engineering'},\n",
       "  {'id': 2279, 'name': 'Teresia', 'age': 26, 'department': 'finance'},\n",
       "  {'id': 2025, 'name': 'Beryl', 'age': 28, 'department': 'engineering'}]}"
      ]
     },
     "execution_count": 17,
     "metadata": {},
     "output_type": "execute_result"
    }
   ],
   "source": [
    "## Add a new employee\n",
    "\n",
    "new_employee = {'id': 2025, 'name': 'Beryl', 'age': 28, 'department': 'engineering'}\n",
    "data['employees'].append(new_employee)\n",
    "data"
   ]
  },
  {
   "cell_type": "code",
   "execution_count": 18,
   "metadata": {},
   "outputs": [
    {
     "data": {
      "text/plain": [
       "{'first_name': 'John', 'second_name': 'Maina'}"
      ]
     },
     "execution_count": 18,
     "metadata": {},
     "output_type": "execute_result"
    }
   ],
   "source": [
    "names = {\n",
    "    'first_name': 'John',\n",
    "    'second_name': 'Kamau'\n",
    "}\n",
    "\n",
    "# change second_name to Maina\n",
    "names['second_name'] = 'Maina'\n",
    "\n",
    "names"
   ]
  },
  {
   "cell_type": "code",
   "execution_count": 19,
   "metadata": {},
   "outputs": [
    {
     "data": {
      "text/plain": [
       "{'employees': [{'id': 9178,\n",
       "   'name': 'Sylvia',\n",
       "   'age': 27,\n",
       "   'department': 'tech & data'},\n",
       "  {'id': 8124, 'name': 'Peter', 'age': 34, 'department': 'engineering'},\n",
       "  {'id': 2279, 'name': 'Teresia', 'age': 26, 'department': 'finance'},\n",
       "  {'id': 2025, 'name': 'Beryl', 'age': 28, 'department': 'engineering'}]}"
      ]
     },
     "execution_count": 19,
     "metadata": {},
     "output_type": "execute_result"
    }
   ],
   "source": [
    "# update Sylvia's age\n",
    "\n",
    "for emp in data['employees']:\n",
    "    if emp['name'] == 'Sylvia':\n",
    "        emp['age'] = 27\n",
    "\n",
    "data"
   ]
  },
  {
   "cell_type": "code",
   "execution_count": 20,
   "metadata": {},
   "outputs": [
    {
     "data": {
      "text/plain": [
       "[{'id': 9178, 'name': 'Sylvia', 'age': 27, 'department': 'tech & data'},\n",
       " {'id': 8124, 'name': 'Peter', 'age': 34, 'department': 'engineering'},\n",
       " {'id': 2025, 'name': 'Beryl', 'age': 28, 'department': 'engineering'}]"
      ]
     },
     "execution_count": 20,
     "metadata": {},
     "output_type": "execute_result"
    }
   ],
   "source": [
    "# delete Teresia >> resigned \n",
    "data['employees'] = [emp for emp in data['employees'] if emp['name'] != 'Teresia']\n",
    "\n",
    "data['employees']"
   ]
  },
  {
   "cell_type": "markdown",
   "metadata": {},
   "source": [
    "## Knock yourself out "
   ]
  },
  {
   "cell_type": "code",
   "execution_count": 21,
   "metadata": {},
   "outputs": [
    {
     "name": "stdout",
     "output_type": "stream",
     "text": [
      "{'tech & data': [{'id': 9178, 'name': 'Sylvia', 'age': 27, 'department': 'tech & data'}], 'engineering': [{'id': 8124, 'name': 'Peter', 'age': 34, 'department': 'engineering'}, {'id': 2025, 'name': 'Beryl', 'age': 28, 'department': 'engineering'}]}\n"
     ]
    }
   ],
   "source": [
    "# research on collections \n",
    "from collections import defaultdict\n",
    "\n",
    "# group by department \n",
    "department_groups = defaultdict(list)\n",
    "for emp in data['employees']:\n",
    "    department_groups[emp['department']].append(emp)\n",
    "\n",
    "print(dict(department_groups))"
   ]
  },
  {
   "cell_type": "code",
   "execution_count": null,
   "metadata": {},
   "outputs": [],
   "source": []
  }
 ],
 "metadata": {
  "kernelspec": {
   "display_name": "myenv",
   "language": "python",
   "name": "python3"
  },
  "language_info": {
   "codemirror_mode": {
    "name": "ipython",
    "version": 3
   },
   "file_extension": ".py",
   "mimetype": "text/x-python",
   "name": "python",
   "nbconvert_exporter": "python",
   "pygments_lexer": "ipython3",
   "version": "3.12.8"
  }
 },
 "nbformat": 4,
 "nbformat_minor": 2
}
